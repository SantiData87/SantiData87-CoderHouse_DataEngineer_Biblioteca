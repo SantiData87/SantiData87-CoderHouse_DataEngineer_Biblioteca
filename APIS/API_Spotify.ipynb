{
  "cells": [
    {
      "cell_type": "markdown",
      "metadata": {
        "colab_type": "text",
        "id": "view-in-github"
      },
      "source": [
        "<a href=\"https://colab.research.google.com/github/SantiData87/SantiData87-CoderHouse_DataEngineer_Biblioteca/blob/main/API_Spotify.ipynb\" target=\"_parent\"><img src=\"https://colab.research.google.com/assets/colab-badge.svg\" alt=\"Open In Colab\"/></a>"
      ]
    },
    {
      "cell_type": "code",
      "execution_count": null,
      "metadata": {
        "colab": {
          "base_uri": "https://localhost:8080/"
        },
        "id": "emwj21oFkGAo",
        "outputId": "808d8c84-be95-44ae-df2c-304de148dd4e"
      },
      "outputs": [
        {
          "name": "stdout",
          "output_type": "stream",
          "text": [
            "Collecting spotipy\n",
            "  Downloading spotipy-2.23.0-py3-none-any.whl (29 kB)\n",
            "Collecting redis>=3.5.3 (from spotipy)\n",
            "  Downloading redis-5.0.4-py3-none-any.whl (251 kB)\n",
            "\u001b[2K     \u001b[90m━━━━━━━━━━━━━━━━━━━━━━━━━━━━━━━━━━━━━━━━\u001b[0m \u001b[32m252.0/252.0 kB\u001b[0m \u001b[31m5.7 MB/s\u001b[0m eta \u001b[36m0:00:00\u001b[0m\n",
            "\u001b[?25hRequirement already satisfied: requests>=2.25.0 in /usr/local/lib/python3.10/dist-packages (from spotipy) (2.31.0)\n",
            "Requirement already satisfied: six>=1.15.0 in /usr/local/lib/python3.10/dist-packages (from spotipy) (1.16.0)\n",
            "Requirement already satisfied: urllib3>=1.26.0 in /usr/local/lib/python3.10/dist-packages (from spotipy) (2.0.7)\n",
            "Requirement already satisfied: async-timeout>=4.0.3 in /usr/local/lib/python3.10/dist-packages (from redis>=3.5.3->spotipy) (4.0.3)\n",
            "Requirement already satisfied: charset-normalizer<4,>=2 in /usr/local/lib/python3.10/dist-packages (from requests>=2.25.0->spotipy) (3.3.2)\n",
            "Requirement already satisfied: idna<4,>=2.5 in /usr/local/lib/python3.10/dist-packages (from requests>=2.25.0->spotipy) (3.7)\n",
            "Requirement already satisfied: certifi>=2017.4.17 in /usr/local/lib/python3.10/dist-packages (from requests>=2.25.0->spotipy) (2024.2.2)\n",
            "Installing collected packages: redis, spotipy\n",
            "Successfully installed redis-5.0.4 spotipy-2.23.0\n"
          ]
        }
      ],
      "source": [
        "pip install spotipy"
      ]
    },
    {
      "cell_type": "markdown",
      "metadata": {},
      "source": []
    },
    {
      "cell_type": "code",
      "execution_count": null,
      "metadata": {
        "id": "-ZDy_fJwdViD"
      },
      "outputs": [],
      "source": [
        "import pandas as pd\n",
        "import numpy as np\n",
        "import spotipy\n",
        "from spotipy.oauth2 import SpotifyClientCredentials"
      ]
    },
    {
      "cell_type": "code",
      "execution_count": null,
      "metadata": {
        "colab": {
          "base_uri": "https://localhost:8080/"
        },
        "id": "ltx_MmzysHdh",
        "outputId": "262db39a-cb32-4843-abbb-66e6c7292f60"
      },
      "outputs": [
        {
          "name": "stdout",
          "output_type": "stream",
          "text": [
            "Mounted at /content/drive\n",
            "/content/drive/MyDrive\n",
            " 219682.pdf                             \u001b[0m\u001b[01;34m'Colab Notebooks'\u001b[0m/                'Lista Casamiento.xlsx'\n",
            " 227764.pdf                              \u001b[01;34mCROWDIUM\u001b[0m/                         \u001b[01;34mLLC\u001b[0m/\n",
            " 235866.pdf                             '- CUBO MAGICO  - SOLUCION.docx'  \u001b[01;34m'- PEN DRIVE'\u001b[0m/\n",
            "'572 HACER.xlsx'                        \u001b[01;34m'- DATA'\u001b[0m/                          profe_solucion_sql.png\n",
            " analisis_mercado.txt                   'DE_Indice .gslides'               RUCA.pdf\n",
            "\u001b[01;34m'- BOLSA'\u001b[0m/                               DE_S4_Query_.png                  script.py\n",
            "'calculadora flujos de pagos ONs.xlsx'  \u001b[01;34m'Documentos Importantes '\u001b[0m/        'Semanal 20240315.pdf'\n",
            "'Calculadora LEDE.xlsx'                  Ej_Paso_a_Paso.gslides            stacked.html\n",
            "\u001b[01;34m'Ciudadanía Italiana'\u001b[0m/                  'Gastos Casamiento.gsheet'         tutor_solucion_sql.png\n",
            " client_secret_spotify.txt               \u001b[01;34mHTC\u001b[0m/\n"
          ]
        }
      ],
      "source": [
        "#Montar en drive\n",
        "from google.colab import drive\n",
        "import os\n",
        "drive.mount('/content/drive')\n",
        "%cd '/content/drive/MyDrive/'\n",
        "%ls"
      ]
    },
    {
      "cell_type": "code",
      "execution_count": null,
      "metadata": {
        "id": "BCHl9xTTrjkB"
      },
      "outputs": [],
      "source": [
        "# prompt: leer con with open archivo en google drive llamado client_secret_spotify.txt\n",
        "\n",
        "with open('/content/drive/My Drive/client_secret_spotify.txt', 'r') as f:\n",
        "  client_secret = f.read()\n"
      ]
    },
    {
      "cell_type": "code",
      "execution_count": null,
      "metadata": {
        "id": "MTC_W2BtlQJQ"
      },
      "outputs": [],
      "source": [
        "#Autenticar\n",
        "client_id= 'a25133e8be74459883f8c73541945ab9'\n",
        "#client_secret = '92fc8a22cfe148488360a254966d91e8'\n",
        "\n",
        "client_credentials_manager = SpotifyClientCredentials(client_id, client_secret)\n",
        "sp = spotipy.Spotify(client_credentials_manager=client_credentials_manager)"
      ]
    },
    {
      "cell_type": "code",
      "execution_count": null,
      "metadata": {
        "colab": {
          "base_uri": "https://localhost:8080/"
        },
        "id": "Uk5xVouskp00",
        "outputId": "2494367e-757b-4a68-845a-3e0532b8f0bb"
      },
      "outputs": [
        {
          "data": {
            "application/vnd.google.colaboratory.intrinsic+json": {
              "type": "string"
            },
            "text/plain": [
              "'1SKA2QwV2fwGgoMlx16FXO'"
            ]
          },
          "execution_count": 6,
          "metadata": {},
          "output_type": "execute_result"
        }
      ],
      "source": [
        "results = sp.search(q='Los Fundamentalistas del Aire Acondicionado', type='artist', limit=20)\n",
        "artist_id = results['artists']['items'][0]['id']\n",
        "artist_id"
      ]
    },
    {
      "cell_type": "code",
      "execution_count": null,
      "metadata": {
        "colab": {
          "base_uri": "https://localhost:8080/"
        },
        "id": "6ZfQOWzBlGbO",
        "outputId": "9c99ffd6-3220-4b96-b7cf-a7a32eda4709"
      },
      "outputs": [
        {
          "name": "stdout",
          "output_type": "stream",
          "text": [
            "Los Fundamentalistas del Aire Acondicionado en Huracán (En Vivo)\n",
            "A los Pájaros\n",
            "Desde los Satélites (En Vivo)\n",
            "El Ruiseñor, el Amor y la Muerte\n",
            "En Concierto (En Vivo)\n",
            "Pajaritos, Bravos Muchachitos\n",
            "El Perfume de la Tempestad\n",
            "Porco Rex\n",
            "El Tesoro de los Inocentes (Bingo Fuel)\n"
          ]
        }
      ],
      "source": [
        "albums = sp.artist_albums(artist_id, album_type='album')\n",
        "\n",
        "for album in albums['items']:\n",
        "  print(album['name'])"
      ]
    },
    {
      "cell_type": "code",
      "execution_count": null,
      "metadata": {
        "colab": {
          "base_uri": "https://localhost:8080/",
          "height": 275
        },
        "id": "5RjpWD1plGYG",
        "outputId": "2061185a-72ad-46fe-ad65-a2f71e90ddaf"
      },
      "outputs": [
        {
          "data": {
            "application/vnd.google.colaboratory.intrinsic+json": {
              "summary": "{\n  \"name\": \"df\",\n  \"rows\": 5,\n  \"fields\": [\n    {\n      \"column\": \"Id\",\n      \"properties\": {\n        \"dtype\": \"string\",\n        \"num_unique_values\": 5,\n        \"samples\": [\n          \"1rHcF8w54nZwOWLdFLQ4ie\",\n          \"7yoq0rGE5itUkoV6BtNo1k\",\n          \"6ZHnu5jFDssHMlP6NdTPSs\"\n        ],\n        \"semantic_type\": \"\",\n        \"description\": \"\"\n      }\n    },\n    {\n      \"column\": \"Artista\",\n      \"properties\": {\n        \"dtype\": \"string\",\n        \"num_unique_values\": 5,\n        \"samples\": [\n          \"enplenafalla\",\n          \"Mind Rest\",\n          \"Mark Chapter\"\n        ],\n        \"semantic_type\": \"\",\n        \"description\": \"\"\n      }\n    },\n    {\n      \"column\": \"Cancion\",\n      \"properties\": {\n        \"dtype\": \"string\",\n        \"num_unique_values\": 5,\n        \"samples\": [\n          \"Turosstro..\",\n          \"Newfound Peace\",\n          \"Save Me - Dub Mix\"\n        ],\n        \"semantic_type\": \"\",\n        \"description\": \"\"\n      }\n    },\n    {\n      \"column\": \"Duracion_ms\",\n      \"properties\": {\n        \"dtype\": \"number\",\n        \"std\": 57321,\n        \"min\": 107023,\n        \"max\": 243934,\n        \"num_unique_values\": 5,\n        \"samples\": [\n          117330,\n          142027,\n          243934\n        ],\n        \"semantic_type\": \"\",\n        \"description\": \"\"\n      }\n    },\n    {\n      \"column\": \"Genero\",\n      \"properties\": {\n        \"dtype\": \"category\",\n        \"num_unique_values\": 1,\n        \"samples\": [\n          \"Desconocido\"\n        ],\n        \"semantic_type\": \"\",\n        \"description\": \"\"\n      }\n    },\n    {\n      \"column\": \"Album\",\n      \"properties\": {\n        \"dtype\": \"string\",\n        \"num_unique_values\": 5,\n        \"samples\": [\n          \"Turosstro..\"\n        ],\n        \"semantic_type\": \"\",\n        \"description\": \"\"\n      }\n    },\n    {\n      \"column\": \"Album_img\",\n      \"properties\": {\n        \"dtype\": \"string\",\n        \"num_unique_values\": 5,\n        \"samples\": [\n          \"https://i.scdn.co/image/ab67616d0000b27394b964a1c4d8324eed0c9f2b\"\n        ],\n        \"semantic_type\": \"\",\n        \"description\": \"\"\n      }\n    },\n    {\n      \"column\": \"Total_canciones_album\",\n      \"properties\": {\n        \"dtype\": \"number\",\n        \"std\": 16,\n        \"min\": 1,\n        \"max\": 40,\n        \"num_unique_values\": 5,\n        \"samples\": [\n          1\n        ],\n        \"semantic_type\": \"\",\n        \"description\": \"\"\n      }\n    },\n    {\n      \"column\": \"Popularidad\",\n      \"properties\": {\n        \"dtype\": \"number\",\n        \"std\": 0,\n        \"min\": 0,\n        \"max\": 0,\n        \"num_unique_values\": 1,\n        \"samples\": [\n          0\n        ],\n        \"semantic_type\": \"\",\n        \"description\": \"\"\n      }\n    },\n    {\n      \"column\": \"fecha_lanzamiento\",\n      \"properties\": {\n        \"dtype\": \"date\",\n        \"min\": \"2023-02-10 00:00:00\",\n        \"max\": \"2023-12-07 00:00:00\",\n        \"num_unique_values\": 5,\n        \"samples\": [\n          \"2023-12-07 00:00:00\"\n        ],\n        \"semantic_type\": \"\",\n        \"description\": \"\"\n      }\n    }\n  ]\n}",
              "type": "dataframe",
              "variable_name": "df"
            },
            "text/html": [
              "\n",
              "  <div id=\"df-889f6ed8-6fce-4374-bc61-c64b0af26382\" class=\"colab-df-container\">\n",
              "    <div>\n",
              "<style scoped>\n",
              "    .dataframe tbody tr th:only-of-type {\n",
              "        vertical-align: middle;\n",
              "    }\n",
              "\n",
              "    .dataframe tbody tr th {\n",
              "        vertical-align: top;\n",
              "    }\n",
              "\n",
              "    .dataframe thead th {\n",
              "        text-align: right;\n",
              "    }\n",
              "</style>\n",
              "<table border=\"1\" class=\"dataframe\">\n",
              "  <thead>\n",
              "    <tr style=\"text-align: right;\">\n",
              "      <th></th>\n",
              "      <th>Id</th>\n",
              "      <th>Artista</th>\n",
              "      <th>Cancion</th>\n",
              "      <th>Duracion_ms</th>\n",
              "      <th>Genero</th>\n",
              "      <th>Album</th>\n",
              "      <th>Album_img</th>\n",
              "      <th>Total_canciones_album</th>\n",
              "      <th>Popularidad</th>\n",
              "      <th>fecha_lanzamiento</th>\n",
              "    </tr>\n",
              "  </thead>\n",
              "  <tbody>\n",
              "    <tr>\n",
              "      <th>0</th>\n",
              "      <td>5KsDaCcYp2ebwwYfnxZE77</td>\n",
              "      <td>Jazz For Sleep</td>\n",
              "      <td>Alluring Music for Cocktails after Dinner</td>\n",
              "      <td>111222</td>\n",
              "      <td>Desconocido</td>\n",
              "      <td>Restaurant Relaxation</td>\n",
              "      <td>https://i.scdn.co/image/ab67616d0000b27301f4cc...</td>\n",
              "      <td>40</td>\n",
              "      <td>0</td>\n",
              "      <td>2023-09-11</td>\n",
              "    </tr>\n",
              "    <tr>\n",
              "      <th>1</th>\n",
              "      <td>1rHcF8w54nZwOWLdFLQ4ie</td>\n",
              "      <td>enplenafalla</td>\n",
              "      <td>Turosstro..</td>\n",
              "      <td>117330</td>\n",
              "      <td>Desconocido</td>\n",
              "      <td>Turosstro..</td>\n",
              "      <td>https://i.scdn.co/image/ab67616d0000b27394b964...</td>\n",
              "      <td>1</td>\n",
              "      <td>0</td>\n",
              "      <td>2023-12-07</td>\n",
              "    </tr>\n",
              "    <tr>\n",
              "      <th>2</th>\n",
              "      <td>6ZHnu5jFDssHMlP6NdTPSs</td>\n",
              "      <td>Mark Chapter</td>\n",
              "      <td>Save Me - Dub Mix</td>\n",
              "      <td>243934</td>\n",
              "      <td>Desconocido</td>\n",
              "      <td>Rated Sounds 2023</td>\n",
              "      <td>https://i.scdn.co/image/ab67616d0000b273408001...</td>\n",
              "      <td>25</td>\n",
              "      <td>0</td>\n",
              "      <td>2023-10-13</td>\n",
              "    </tr>\n",
              "    <tr>\n",
              "      <th>3</th>\n",
              "      <td>1yeEcMCr7GHrNHZLo7IHZz</td>\n",
              "      <td>Sweet Lullaby</td>\n",
              "      <td>Energy Replenishment</td>\n",
              "      <td>107023</td>\n",
              "      <td>Desconocido</td>\n",
              "      <td>36 Relaxing Routine</td>\n",
              "      <td>https://i.scdn.co/image/ab67616d0000b2737efaf7...</td>\n",
              "      <td>36</td>\n",
              "      <td>0</td>\n",
              "      <td>2023-02-10</td>\n",
              "    </tr>\n",
              "    <tr>\n",
              "      <th>4</th>\n",
              "      <td>7yoq0rGE5itUkoV6BtNo1k</td>\n",
              "      <td>Mind Rest</td>\n",
              "      <td>Newfound Peace</td>\n",
              "      <td>142027</td>\n",
              "      <td>Desconocido</td>\n",
              "      <td>37 Dream Induced Child</td>\n",
              "      <td>https://i.scdn.co/image/ab67616d0000b273ff7d21...</td>\n",
              "      <td>37</td>\n",
              "      <td>0</td>\n",
              "      <td>2023-03-10</td>\n",
              "    </tr>\n",
              "  </tbody>\n",
              "</table>\n",
              "</div>\n",
              "    <div class=\"colab-df-buttons\">\n",
              "\n",
              "  <div class=\"colab-df-container\">\n",
              "    <button class=\"colab-df-convert\" onclick=\"convertToInteractive('df-889f6ed8-6fce-4374-bc61-c64b0af26382')\"\n",
              "            title=\"Convert this dataframe to an interactive table.\"\n",
              "            style=\"display:none;\">\n",
              "\n",
              "  <svg xmlns=\"http://www.w3.org/2000/svg\" height=\"24px\" viewBox=\"0 -960 960 960\">\n",
              "    <path d=\"M120-120v-720h720v720H120Zm60-500h600v-160H180v160Zm220 220h160v-160H400v160Zm0 220h160v-160H400v160ZM180-400h160v-160H180v160Zm440 0h160v-160H620v160ZM180-180h160v-160H180v160Zm440 0h160v-160H620v160Z\"/>\n",
              "  </svg>\n",
              "    </button>\n",
              "\n",
              "  <style>\n",
              "    .colab-df-container {\n",
              "      display:flex;\n",
              "      gap: 12px;\n",
              "    }\n",
              "\n",
              "    .colab-df-convert {\n",
              "      background-color: #E8F0FE;\n",
              "      border: none;\n",
              "      border-radius: 50%;\n",
              "      cursor: pointer;\n",
              "      display: none;\n",
              "      fill: #1967D2;\n",
              "      height: 32px;\n",
              "      padding: 0 0 0 0;\n",
              "      width: 32px;\n",
              "    }\n",
              "\n",
              "    .colab-df-convert:hover {\n",
              "      background-color: #E2EBFA;\n",
              "      box-shadow: 0px 1px 2px rgba(60, 64, 67, 0.3), 0px 1px 3px 1px rgba(60, 64, 67, 0.15);\n",
              "      fill: #174EA6;\n",
              "    }\n",
              "\n",
              "    .colab-df-buttons div {\n",
              "      margin-bottom: 4px;\n",
              "    }\n",
              "\n",
              "    [theme=dark] .colab-df-convert {\n",
              "      background-color: #3B4455;\n",
              "      fill: #D2E3FC;\n",
              "    }\n",
              "\n",
              "    [theme=dark] .colab-df-convert:hover {\n",
              "      background-color: #434B5C;\n",
              "      box-shadow: 0px 1px 3px 1px rgba(0, 0, 0, 0.15);\n",
              "      filter: drop-shadow(0px 1px 2px rgba(0, 0, 0, 0.3));\n",
              "      fill: #FFFFFF;\n",
              "    }\n",
              "  </style>\n",
              "\n",
              "    <script>\n",
              "      const buttonEl =\n",
              "        document.querySelector('#df-889f6ed8-6fce-4374-bc61-c64b0af26382 button.colab-df-convert');\n",
              "      buttonEl.style.display =\n",
              "        google.colab.kernel.accessAllowed ? 'block' : 'none';\n",
              "\n",
              "      async function convertToInteractive(key) {\n",
              "        const element = document.querySelector('#df-889f6ed8-6fce-4374-bc61-c64b0af26382');\n",
              "        const dataTable =\n",
              "          await google.colab.kernel.invokeFunction('convertToInteractive',\n",
              "                                                    [key], {});\n",
              "        if (!dataTable) return;\n",
              "\n",
              "        const docLinkHtml = 'Like what you see? Visit the ' +\n",
              "          '<a target=\"_blank\" href=https://colab.research.google.com/notebooks/data_table.ipynb>data table notebook</a>'\n",
              "          + ' to learn more about interactive tables.';\n",
              "        element.innerHTML = '';\n",
              "        dataTable['output_type'] = 'display_data';\n",
              "        await google.colab.output.renderOutput(dataTable, element);\n",
              "        const docLink = document.createElement('div');\n",
              "        docLink.innerHTML = docLinkHtml;\n",
              "        element.appendChild(docLink);\n",
              "      }\n",
              "    </script>\n",
              "  </div>\n",
              "\n",
              "\n",
              "<div id=\"df-9cb1e862-f2f6-4ac2-ba67-f7bbf4301a41\">\n",
              "  <button class=\"colab-df-quickchart\" onclick=\"quickchart('df-9cb1e862-f2f6-4ac2-ba67-f7bbf4301a41')\"\n",
              "            title=\"Suggest charts\"\n",
              "            style=\"display:none;\">\n",
              "\n",
              "<svg xmlns=\"http://www.w3.org/2000/svg\" height=\"24px\"viewBox=\"0 0 24 24\"\n",
              "     width=\"24px\">\n",
              "    <g>\n",
              "        <path d=\"M19 3H5c-1.1 0-2 .9-2 2v14c0 1.1.9 2 2 2h14c1.1 0 2-.9 2-2V5c0-1.1-.9-2-2-2zM9 17H7v-7h2v7zm4 0h-2V7h2v10zm4 0h-2v-4h2v4z\"/>\n",
              "    </g>\n",
              "</svg>\n",
              "  </button>\n",
              "\n",
              "<style>\n",
              "  .colab-df-quickchart {\n",
              "      --bg-color: #E8F0FE;\n",
              "      --fill-color: #1967D2;\n",
              "      --hover-bg-color: #E2EBFA;\n",
              "      --hover-fill-color: #174EA6;\n",
              "      --disabled-fill-color: #AAA;\n",
              "      --disabled-bg-color: #DDD;\n",
              "  }\n",
              "\n",
              "  [theme=dark] .colab-df-quickchart {\n",
              "      --bg-color: #3B4455;\n",
              "      --fill-color: #D2E3FC;\n",
              "      --hover-bg-color: #434B5C;\n",
              "      --hover-fill-color: #FFFFFF;\n",
              "      --disabled-bg-color: #3B4455;\n",
              "      --disabled-fill-color: #666;\n",
              "  }\n",
              "\n",
              "  .colab-df-quickchart {\n",
              "    background-color: var(--bg-color);\n",
              "    border: none;\n",
              "    border-radius: 50%;\n",
              "    cursor: pointer;\n",
              "    display: none;\n",
              "    fill: var(--fill-color);\n",
              "    height: 32px;\n",
              "    padding: 0;\n",
              "    width: 32px;\n",
              "  }\n",
              "\n",
              "  .colab-df-quickchart:hover {\n",
              "    background-color: var(--hover-bg-color);\n",
              "    box-shadow: 0 1px 2px rgba(60, 64, 67, 0.3), 0 1px 3px 1px rgba(60, 64, 67, 0.15);\n",
              "    fill: var(--button-hover-fill-color);\n",
              "  }\n",
              "\n",
              "  .colab-df-quickchart-complete:disabled,\n",
              "  .colab-df-quickchart-complete:disabled:hover {\n",
              "    background-color: var(--disabled-bg-color);\n",
              "    fill: var(--disabled-fill-color);\n",
              "    box-shadow: none;\n",
              "  }\n",
              "\n",
              "  .colab-df-spinner {\n",
              "    border: 2px solid var(--fill-color);\n",
              "    border-color: transparent;\n",
              "    border-bottom-color: var(--fill-color);\n",
              "    animation:\n",
              "      spin 1s steps(1) infinite;\n",
              "  }\n",
              "\n",
              "  @keyframes spin {\n",
              "    0% {\n",
              "      border-color: transparent;\n",
              "      border-bottom-color: var(--fill-color);\n",
              "      border-left-color: var(--fill-color);\n",
              "    }\n",
              "    20% {\n",
              "      border-color: transparent;\n",
              "      border-left-color: var(--fill-color);\n",
              "      border-top-color: var(--fill-color);\n",
              "    }\n",
              "    30% {\n",
              "      border-color: transparent;\n",
              "      border-left-color: var(--fill-color);\n",
              "      border-top-color: var(--fill-color);\n",
              "      border-right-color: var(--fill-color);\n",
              "    }\n",
              "    40% {\n",
              "      border-color: transparent;\n",
              "      border-right-color: var(--fill-color);\n",
              "      border-top-color: var(--fill-color);\n",
              "    }\n",
              "    60% {\n",
              "      border-color: transparent;\n",
              "      border-right-color: var(--fill-color);\n",
              "    }\n",
              "    80% {\n",
              "      border-color: transparent;\n",
              "      border-right-color: var(--fill-color);\n",
              "      border-bottom-color: var(--fill-color);\n",
              "    }\n",
              "    90% {\n",
              "      border-color: transparent;\n",
              "      border-bottom-color: var(--fill-color);\n",
              "    }\n",
              "  }\n",
              "</style>\n",
              "\n",
              "  <script>\n",
              "    async function quickchart(key) {\n",
              "      const quickchartButtonEl =\n",
              "        document.querySelector('#' + key + ' button');\n",
              "      quickchartButtonEl.disabled = true;  // To prevent multiple clicks.\n",
              "      quickchartButtonEl.classList.add('colab-df-spinner');\n",
              "      try {\n",
              "        const charts = await google.colab.kernel.invokeFunction(\n",
              "            'suggestCharts', [key], {});\n",
              "      } catch (error) {\n",
              "        console.error('Error during call to suggestCharts:', error);\n",
              "      }\n",
              "      quickchartButtonEl.classList.remove('colab-df-spinner');\n",
              "      quickchartButtonEl.classList.add('colab-df-quickchart-complete');\n",
              "    }\n",
              "    (() => {\n",
              "      let quickchartButtonEl =\n",
              "        document.querySelector('#df-9cb1e862-f2f6-4ac2-ba67-f7bbf4301a41 button');\n",
              "      quickchartButtonEl.style.display =\n",
              "        google.colab.kernel.accessAllowed ? 'block' : 'none';\n",
              "    })();\n",
              "  </script>\n",
              "</div>\n",
              "\n",
              "  <div id=\"id_2e84eb79-3e6c-41b3-a1bc-2a074655a44e\">\n",
              "    <style>\n",
              "      .colab-df-generate {\n",
              "        background-color: #E8F0FE;\n",
              "        border: none;\n",
              "        border-radius: 50%;\n",
              "        cursor: pointer;\n",
              "        display: none;\n",
              "        fill: #1967D2;\n",
              "        height: 32px;\n",
              "        padding: 0 0 0 0;\n",
              "        width: 32px;\n",
              "      }\n",
              "\n",
              "      .colab-df-generate:hover {\n",
              "        background-color: #E2EBFA;\n",
              "        box-shadow: 0px 1px 2px rgba(60, 64, 67, 0.3), 0px 1px 3px 1px rgba(60, 64, 67, 0.15);\n",
              "        fill: #174EA6;\n",
              "      }\n",
              "\n",
              "      [theme=dark] .colab-df-generate {\n",
              "        background-color: #3B4455;\n",
              "        fill: #D2E3FC;\n",
              "      }\n",
              "\n",
              "      [theme=dark] .colab-df-generate:hover {\n",
              "        background-color: #434B5C;\n",
              "        box-shadow: 0px 1px 3px 1px rgba(0, 0, 0, 0.15);\n",
              "        filter: drop-shadow(0px 1px 2px rgba(0, 0, 0, 0.3));\n",
              "        fill: #FFFFFF;\n",
              "      }\n",
              "    </style>\n",
              "    <button class=\"colab-df-generate\" onclick=\"generateWithVariable('df')\"\n",
              "            title=\"Generate code using this dataframe.\"\n",
              "            style=\"display:none;\">\n",
              "\n",
              "  <svg xmlns=\"http://www.w3.org/2000/svg\" height=\"24px\"viewBox=\"0 0 24 24\"\n",
              "       width=\"24px\">\n",
              "    <path d=\"M7,19H8.4L18.45,9,17,7.55,7,17.6ZM5,21V16.75L18.45,3.32a2,2,0,0,1,2.83,0l1.4,1.43a1.91,1.91,0,0,1,.58,1.4,1.91,1.91,0,0,1-.58,1.4L9.25,21ZM18.45,9,17,7.55Zm-12,3A5.31,5.31,0,0,0,4.9,8.1,5.31,5.31,0,0,0,1,6.5,5.31,5.31,0,0,0,4.9,4.9,5.31,5.31,0,0,0,6.5,1,5.31,5.31,0,0,0,8.1,4.9,5.31,5.31,0,0,0,12,6.5,5.46,5.46,0,0,0,6.5,12Z\"/>\n",
              "  </svg>\n",
              "    </button>\n",
              "    <script>\n",
              "      (() => {\n",
              "      const buttonEl =\n",
              "        document.querySelector('#id_2e84eb79-3e6c-41b3-a1bc-2a074655a44e button.colab-df-generate');\n",
              "      buttonEl.style.display =\n",
              "        google.colab.kernel.accessAllowed ? 'block' : 'none';\n",
              "\n",
              "      buttonEl.onclick = () => {\n",
              "        google.colab.notebook.generateWithVariable('df');\n",
              "      }\n",
              "      })();\n",
              "    </script>\n",
              "  </div>\n",
              "\n",
              "    </div>\n",
              "  </div>\n"
            ],
            "text/plain": [
              "                       Id         Artista  \\\n",
              "0  5KsDaCcYp2ebwwYfnxZE77  Jazz For Sleep   \n",
              "1  1rHcF8w54nZwOWLdFLQ4ie    enplenafalla   \n",
              "2  6ZHnu5jFDssHMlP6NdTPSs    Mark Chapter   \n",
              "3  1yeEcMCr7GHrNHZLo7IHZz   Sweet Lullaby   \n",
              "4  7yoq0rGE5itUkoV6BtNo1k       Mind Rest   \n",
              "\n",
              "                                     Cancion  Duracion_ms       Genero  \\\n",
              "0  Alluring Music for Cocktails after Dinner       111222  Desconocido   \n",
              "1                                Turosstro..       117330  Desconocido   \n",
              "2                          Save Me - Dub Mix       243934  Desconocido   \n",
              "3                       Energy Replenishment       107023  Desconocido   \n",
              "4                             Newfound Peace       142027  Desconocido   \n",
              "\n",
              "                    Album                                          Album_img  \\\n",
              "0   Restaurant Relaxation  https://i.scdn.co/image/ab67616d0000b27301f4cc...   \n",
              "1             Turosstro..  https://i.scdn.co/image/ab67616d0000b27394b964...   \n",
              "2       Rated Sounds 2023  https://i.scdn.co/image/ab67616d0000b273408001...   \n",
              "3     36 Relaxing Routine  https://i.scdn.co/image/ab67616d0000b2737efaf7...   \n",
              "4  37 Dream Induced Child  https://i.scdn.co/image/ab67616d0000b273ff7d21...   \n",
              "\n",
              "   Total_canciones_album  Popularidad fecha_lanzamiento  \n",
              "0                     40            0        2023-09-11  \n",
              "1                      1            0        2023-12-07  \n",
              "2                     25            0        2023-10-13  \n",
              "3                     36            0        2023-02-10  \n",
              "4                     37            0        2023-03-10  "
            ]
          },
          "metadata": {},
          "output_type": "display_data"
        }
      ],
      "source": [
        "results = sp.search(q='year:2023', type='track', limit=5)\n",
        "data = {'Id': [],'Artista': [], 'Cancion': [],'Duracion_ms': [], 'Genero': [],'Album': [], 'Album_img': [], 'Total_canciones_album': [], 'Popularidad': [], 'fecha_lanzamiento': []}\n",
        "for track in results['tracks']['items']:\n",
        "    id = track['id']\n",
        "    artist_name = track['artists'][0]['name']\n",
        "    artist_id = track['artists'][0]['id']\n",
        "    track_name = track['name']\n",
        "    duration_ms = track['duration_ms']\n",
        "    track_id = track['id']\n",
        "    album_group = track['album']['name']\n",
        "    album_img = track['album']['images'][0]['url'] #imagen de album\n",
        "    album_cont = track['album']['total_tracks']\n",
        "    track_genre = sp.artist(artist_id)['genres']\n",
        "    track_popularity = track['popularity']\n",
        "    track_year = track['album']['release_date']\n",
        "    #Quitar las comillas\n",
        "    track_name = track_name.replace(\"'\", \"\")\n",
        "    album_group = album_group.replace(\"'\", \"\")\n",
        "    #Separar el género por coma\n",
        "    track_genre = ', '.join(track_genre)\n",
        "\n",
        "    data['Id'].append(id)\n",
        "    data['Artista'].append(artist_name)\n",
        "    data['Cancion'].append(track_name)\n",
        "    data['Duracion_ms'].append(duration_ms)\n",
        "    data['Album'].append(album_group)\n",
        "    data['Album_img'].append(album_img)\n",
        "    data['Total_canciones_album'].append(album_cont)\n",
        "    data['Genero'].append(track_genre)\n",
        "    data['Popularidad'].append(track_popularity)\n",
        "    data['fecha_lanzamiento'].append(track_year)\n",
        "\n",
        "\n",
        "df = pd.DataFrame(data)\n",
        "#Evitar que haya canciones duplicadas\n",
        "df.drop_duplicates(subset=['Artista', 'Cancion','Album'], keep='first', inplace=True)\n",
        "#Reemplazar valores nulos o vacios en el campo Género por Desconocido\n",
        "df['Genero'].fillna('Desconocido', inplace=True)\n",
        "df.loc[df['Genero'] == '', 'Genero'] = 'Desconocido'\n",
        "#Evitar que se cargue una canción con duración 0 ms\n",
        "df = df[df['Duracion_ms'] != 0]\n",
        "#Verificar que la fecha se muestre en formato fecha\n",
        "df['fecha_lanzamiento'] = pd.to_datetime(df['fecha_lanzamiento'], format='%Y-%m-%d')\n",
        "display(df)"
      ]
    },
    {
      "cell_type": "code",
      "execution_count": null,
      "metadata": {
        "id": "_E7DJf_307OZ"
      },
      "outputs": [],
      "source": []
    },
    {
      "cell_type": "code",
      "execution_count": null,
      "metadata": {
        "id": "hmsQZCiV3UOR"
      },
      "outputs": [],
      "source": []
    },
    {
      "cell_type": "code",
      "execution_count": null,
      "metadata": {
        "colab": {
          "base_uri": "https://localhost:8080/",
          "height": 219
        },
        "id": "UgyUt7fi3URJ",
        "outputId": "6ce13f7b-29fd-42d3-af4c-ae74e1acf5dc"
      },
      "outputs": [
        {
          "ename": "TypeError",
          "evalue": "SpotifyAuthBase.is_token_expired() missing 1 required positional argument: 'token_info'",
          "output_type": "error",
          "traceback": [
            "\u001b[0;31m---------------------------------------------------------------------------\u001b[0m",
            "\u001b[0;31mTypeError\u001b[0m                                 Traceback (most recent call last)",
            "\u001b[0;32m<ipython-input-9-15b71e1eff81>\u001b[0m in \u001b[0;36m<cell line: 15>\u001b[0;34m()\u001b[0m\n\u001b[1;32m     13\u001b[0m \u001b[0;34m\u001b[0m\u001b[0m\n\u001b[1;32m     14\u001b[0m \u001b[0;31m# Verifica si el token está próximo a expirar\u001b[0m\u001b[0;34m\u001b[0m\u001b[0;34m\u001b[0m\u001b[0m\n\u001b[0;32m---> 15\u001b[0;31m \u001b[0;32mif\u001b[0m \u001b[0msp\u001b[0m\u001b[0;34m.\u001b[0m\u001b[0mauth_manager\u001b[0m\u001b[0;34m.\u001b[0m\u001b[0mis_token_expired\u001b[0m\u001b[0;34m(\u001b[0m\u001b[0;34m)\u001b[0m\u001b[0;34m:\u001b[0m\u001b[0;34m\u001b[0m\u001b[0;34m\u001b[0m\u001b[0m\n\u001b[0m\u001b[1;32m     16\u001b[0m     \u001b[0;31m# Renueva el token de acceso\u001b[0m\u001b[0;34m\u001b[0m\u001b[0;34m\u001b[0m\u001b[0m\n\u001b[1;32m     17\u001b[0m     \u001b[0msp\u001b[0m\u001b[0;34m.\u001b[0m\u001b[0mauth_manager\u001b[0m\u001b[0;34m.\u001b[0m\u001b[0mrefresh_access_token\u001b[0m\u001b[0;34m(\u001b[0m\u001b[0;34m)\u001b[0m\u001b[0;34m\u001b[0m\u001b[0;34m\u001b[0m\u001b[0m\n",
            "\u001b[0;31mTypeError\u001b[0m: SpotifyAuthBase.is_token_expired() missing 1 required positional argument: 'token_info'"
          ]
        }
      ],
      "source": [
        "import spotipy\n",
        "from spotipy.oauth2 import SpotifyOAuth\n",
        "\n",
        "\n",
        "# Configura la autenticación\n",
        "sp = spotipy.Spotify(auth_manager=SpotifyOAuth(client_id='a25133e8be74459883f8c73541945ab9',\n",
        "                                               client_secret='92fc8a22cfe148488360a254966d91e8',\n",
        "                                               redirect_uri='http//localhost:3000/',\n",
        "                                               scope='your_scope'))\n",
        "\n",
        "# Accede a la API usando el token actual\n",
        "# ...\n",
        "\n",
        "# Verifica si el token está próximo a expirar\n",
        "if sp.auth_manager.is_token_expired():\n",
        "    # Renueva el token de acceso\n",
        "    sp.auth_manager.refresh_access_token()\n",
        "\n",
        "# Ahora puedes seguir usando `sp` con el nuevo token renovado\n"
      ]
    },
    {
      "cell_type": "code",
      "execution_count": null,
      "metadata": {
        "id": "LmKDgVeB3UUM"
      },
      "outputs": [],
      "source": []
    },
    {
      "cell_type": "code",
      "execution_count": null,
      "metadata": {
        "id": "Q0ejUZkW3UXi"
      },
      "outputs": [],
      "source": []
    },
    {
      "cell_type": "code",
      "execution_count": null,
      "metadata": {
        "id": "e43tJyGO07LX"
      },
      "outputs": [],
      "source": [
        "# prompt: obtener de la API de spotify las 10 canciones mas escuchadas por mi\n",
        "\n",
        "import pandas as pd\n",
        "import spotipy\n",
        "from spotipy.oauth2 import SpotifyClientCredentials\n",
        "\n",
        "# Autenticar con la API de Spotify\n",
        "client_id = 'a25133e8be74459883f8c73541945ab9'\n",
        "client_secret = '92fc8a22cfe148488360a254966d91e8'\n",
        "client_credentials_manager = SpotifyClientCredentials(client_id, client_secret)\n",
        "sp = spotipy.Spotify(client_credentials_manager=client_credentials_manager)\n",
        "\n",
        "# Obtener las 10 canciones más escuchadas por el usuario\n",
        "results = sp.current_user_top_tracks(limit=10)\n",
        "\n",
        "# Extraer los datos de las canciones\n",
        "data = []\n",
        "for track in results['items']:\n",
        "    data.append({\n",
        "        'id': track['id'],\n",
        "        'name': track['name'],\n",
        "        'artist': track['artists'][0]['name'],\n",
        "        'album': track['album']['name'],\n",
        "        'popularity': track['popularity']\n",
        "    })\n",
        "\n",
        "# Crear un DataFrame con los datos\n",
        "df = pd.DataFrame(data)\n",
        "\n",
        "# Mostrar el DataFrame\n",
        "print(df)\n"
      ]
    },
    {
      "cell_type": "code",
      "execution_count": null,
      "metadata": {
        "id": "WzTvq9Nh07If"
      },
      "outputs": [],
      "source": []
    },
    {
      "cell_type": "code",
      "execution_count": null,
      "metadata": {
        "id": "yCjWcRA107Af"
      },
      "outputs": [],
      "source": [
        "top_tracks = sp.current_user_top_tracks(limit=10, time_range='long_term')"
      ]
    },
    {
      "cell_type": "code",
      "execution_count": null,
      "metadata": {
        "id": "BXO5LC-s0iIO"
      },
      "outputs": [],
      "source": [
        "# Hacer la solicitud a la API de Spotify para obtener las canciones más escuchadas\n",
        "top_tracks = sp.current_user_top_tracks(limit=10, time_range='long_term')\n",
        "\n",
        "# Extraer información relevante de las canciones\n",
        "top_tracks_info = [(track['name'], ', '.join([artist['name'] for artist in track['artists']])) for track in top_tracks['items']]\n",
        "\n",
        "# Mostrar las 10 canciones más escuchadas\n",
        "print(\"Las 10 canciones más escuchadas por ti son:\")\n",
        "for index, (name, artists) in enumerate(top_tracks_info, start=1):\n",
        "    print(f\"{index}. {name} - {artists}\")\n"
      ]
    },
    {
      "cell_type": "code",
      "execution_count": null,
      "metadata": {
        "id": "6pWV60W50iE-"
      },
      "outputs": [],
      "source": []
    },
    {
      "cell_type": "code",
      "execution_count": null,
      "metadata": {
        "id": "KsSsHhUw0iCW"
      },
      "outputs": [],
      "source": []
    },
    {
      "cell_type": "code",
      "execution_count": null,
      "metadata": {
        "id": "q3U9smBb0h_m"
      },
      "outputs": [],
      "source": []
    },
    {
      "cell_type": "code",
      "execution_count": null,
      "metadata": {
        "id": "9FwEdQrK0h8X"
      },
      "outputs": [],
      "source": []
    },
    {
      "cell_type": "code",
      "execution_count": null,
      "metadata": {
        "id": "2_I335kszzCx"
      },
      "outputs": [],
      "source": [
        "import requests\n",
        "import json\n",
        "\n",
        "# Credenciales de la aplicación de Spotify\n",
        "client_id= 'a25133e8be74459883f8c73541945ab9'\n",
        "client_secret = '92fc8a22cfe148488360a254966d91e8'\n",
        "\n",
        "# Endpoint para obtener el token de acceso de Spotify\n",
        "token_url = 'https://accounts.spotify.com/api/token'\n",
        "\n",
        "# Datos necesarios para solicitar el token de acceso\n",
        "auth_data = {\n",
        "    'grant_type': 'client_credentials',\n",
        "    'client_id': client_id,\n",
        "    'client_secret': client_secret\n",
        "}\n",
        "\n",
        "# Realizar la solicitud POST para obtener el token de acceso\n",
        "auth_response = requests.post(token_url, data=auth_data)\n",
        "\n",
        "\n",
        "# Comprobar si la solicitud fue exitosa (código de estado 200)\n",
        "if auth_response.status_code == 200:\n",
        "    # Extraer el token de acceso del cuerpo de la respuesta\n",
        "    access_token = auth_response.json()['access_token']\n",
        "\n",
        "    # Endpoint para obtener las canciones más escuchadas del usuario\n",
        "    endpoint = 'https://api.spotify.com/v1/me/top/tracks'\n",
        "\n",
        "    # Parámetros de la solicitud\n",
        "    params = {\n",
        "        'limit': 10,  # Obtener las 10 canciones principales\n",
        "        'time_range': 'long_term'  # Periodo de tiempo a considerar (long_term para todo el tiempo)\n",
        "    }"
      ]
    },
    {
      "cell_type": "code",
      "execution_count": null,
      "metadata": {
        "id": "yz1ajkafzy_6"
      },
      "outputs": [],
      "source": []
    },
    {
      "cell_type": "code",
      "execution_count": null,
      "metadata": {
        "id": "VkCzCxBhzy8n"
      },
      "outputs": [],
      "source": [
        "import requests\n",
        "import json\n",
        "\n",
        "# Credenciales de la aplicación de Spotify\n",
        "client_id= 'a25133e8be74459883f8c73541945ab9'\n",
        "client_secret = '92fc8a22cfe148488360a254966d91e8'\n",
        "\n",
        "# Endpoint para obtener el token de acceso de Spotify\n",
        "token_url = 'https://accounts.spotify.com/api/token'\n",
        "\n",
        "# Datos necesarios para solicitar el token de acceso\n",
        "auth_data = {\n",
        "    'grant_type': 'client_credentials',\n",
        "    'client_id': client_id,\n",
        "    'client_secret': client_secret\n",
        "}\n",
        "\n",
        "# Realizar la solicitud POST para obtener el token de acceso\n",
        "auth_response = requests.post(token_url, data=auth_data)\n",
        "print(auth_response)\n",
        "\n",
        "\n",
        "#if auth_response.status_code == 200:\n",
        "    # Extraer el token de acceso del cuerpo de la respuesta\n",
        "access_token = auth_response.json()['access_token']\n",
        "\n",
        "    # Endpoint para obtener las canciones más escuchadas del usuario\n",
        "endpoint = 'https://api.spotify.com/v1/me/top/tracks'\n",
        "\n",
        "    # Parámetros de la solicitud\n",
        "params = {\n",
        "        'limit': 10,  # Obtener las 10 canciones principales\n",
        "        'time_range': 'long_term'  # Periodo de tiempo a considerar (long_term para todo el tiempo)\n",
        "    }\n",
        "\n",
        "    # Cabeceras de la solicitud con el token de acceso\n",
        "headers = {\n",
        "        'Authorization': 'Bearer ' + access_token\n",
        "    }\n",
        "\n",
        "    # Realizar la solicitud GET a la API de Spotify\n",
        "response = requests.get(endpoint, params=params, headers=headers)\n",
        "print(response)"
      ]
    },
    {
      "cell_type": "code",
      "execution_count": null,
      "metadata": {
        "id": "9hb2BzgOzy6X"
      },
      "outputs": [],
      "source": []
    },
    {
      "cell_type": "code",
      "execution_count": null,
      "metadata": {
        "id": "AEaN2wa_zyyI"
      },
      "outputs": [],
      "source": []
    },
    {
      "cell_type": "code",
      "execution_count": null,
      "metadata": {
        "id": "jO7sZmoczQjX"
      },
      "outputs": [],
      "source": [
        "import requests\n",
        "import json\n",
        "\n",
        "# Credenciales de la aplicación de Spotify\n",
        "client_id= 'a25133e8be74459883f8c73541945ab9'\n",
        "client_secret = '92fc8a22cfe148488360a254966d91e8'\n",
        "\n",
        "# Endpoint para obtener el token de acceso de Spotify\n",
        "token_url = 'https://accounts.spotify.com/api/token'\n",
        "\n",
        "# Datos necesarios para solicitar el token de acceso\n",
        "auth_data = {\n",
        "    'grant_type': 'client_credentials',\n",
        "    'client_id': client_id,\n",
        "    'client_secret': client_secret\n",
        "}\n",
        "\n",
        "# Realizar la solicitud POST para obtener el token de acceso\n",
        "auth_response = requests.post(token_url, data=auth_data)\n",
        "\n",
        "# Comprobar si la solicitud fue exitosa (código de estado 200)\n",
        "if auth_response.status_code == 200:\n",
        "    # Extraer el token de acceso del cuerpo de la respuesta\n",
        "    access_token = auth_response.json()['access_token']\n",
        "\n",
        "    # Endpoint para obtener las canciones más escuchadas del usuario\n",
        "    endpoint = 'https://api.spotify.com/v1/me/top/tracks'\n",
        "\n",
        "    # Parámetros de la solicitud\n",
        "    params = {\n",
        "        'limit': 10,  # Obtener las 10 canciones principales\n",
        "        'time_range': 'long_term'  # Periodo de tiempo a considerar (long_term para todo el tiempo)\n",
        "    }\n",
        "\n",
        "    # Cabeceras de la solicitud con el token de acceso\n",
        "    headers = {\n",
        "        'Authorization': 'Bearer ' + access_token\n",
        "    }\n",
        "\n",
        "    # Realizar la solicitud GET a la API de Spotify\n",
        "    response = requests.get(endpoint, params=params, headers=headers)\n",
        "\n",
        "    # Comprobar si la solicitud fue exitosa (código de estado 200)\n",
        "    if response.status_code == 200:\n",
        "        # Convertir la respuesta a formato JSON\n",
        "        data = response.json()\n",
        "\n",
        "        # Iterar sobre las canciones y mostrar sus nombres\n",
        "        print(\"Las 10 canciones más escuchadas por ti son:\")\n",
        "        for index, track in enumerate(data['items'], start=1):\n",
        "            print(f\"{index}. {track['name']} - {', '.join([artist['name'] for artist in track['artists']])}\")\n",
        "    else:\n",
        "        print(\"Error al obtener las canciones más escuchadas:\", response.status_code)\n",
        "else:\n",
        "    print(\"Error al obtener el token de acceso:\", auth_response.status_code)\n"
      ]
    },
    {
      "cell_type": "code",
      "execution_count": null,
      "metadata": {
        "id": "YuYrskI8yW2Y"
      },
      "outputs": [],
      "source": [
        "import requests\n",
        "import json\n",
        "\n",
        "# Tu token de acceso de Spotify\n",
        "access_token = 'TU_TOKEN_DE_ACCESO'\n",
        "\n",
        "# Endpoint para obtener las canciones más escuchadas del usuario\n",
        "endpoint = 'https://api.spotify.com/v1/me/top/tracks'\n",
        "\n",
        "# Parámetros de la solicitud\n",
        "params = {\n",
        "    'limit': 10,  # Obtener las 10 canciones principales\n",
        "    'time_range': 'long_term'  # Periodo de tiempo a considerar (long_term para todo el tiempo)\n",
        "}\n",
        "\n",
        "# Cabeceras de la solicitud con el token de acceso\n",
        "headers = {\n",
        "    'Authorization': 'Bearer ' + access_token\n",
        "}\n",
        "\n",
        "# Realizar la solicitud GET a la API de Spotify\n",
        "response = requests.get(endpoint, params=params, headers=headers)\n",
        "\n",
        "# Comprobar si la solicitud fue exitosa (código de estado 200)\n",
        "if response.status_code == 200:\n",
        "    # Convertir la respuesta a formato JSON\n",
        "    data = response.json()\n",
        "\n",
        "    # Iterar sobre las canciones y mostrar sus nombres\n",
        "    print(\"Las 10 canciones más escuchadas por ti son:\")\n",
        "    for index, track in enumerate(data['items'], start=1):\n",
        "        print(f\"{index}. {track['name']} - {', '.join([artist['name'] for artist in track['artists']])}\")\n",
        "else:\n",
        "    print(\"Error al obtener las canciones más escuchadas:\", response.status_code)\n"
      ]
    }
  ],
  "metadata": {
    "colab": {
      "authorship_tag": "ABX9TyNAFYJx769+AsQe3XXnbiNh",
      "include_colab_link": true,
      "provenance": []
    },
    "kernelspec": {
      "display_name": "Python 3",
      "name": "python3"
    },
    "language_info": {
      "name": "python"
    }
  },
  "nbformat": 4,
  "nbformat_minor": 0
}
